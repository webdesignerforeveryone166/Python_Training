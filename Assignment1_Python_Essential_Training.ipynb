{
 "cells": [
  {
   "cell_type": "markdown",
   "metadata": {},
   "source": [
    "# Assignment 1"
   ]
  },
  {
   "cell_type": "code",
   "execution_count": 1,
   "metadata": {},
   "outputs": [],
   "source": [
    "# Methods in strings\n",
    "# Define 5 functions in strings.\n"
   ]
  },
  {
   "cell_type": "code",
   "execution_count": 2,
   "metadata": {},
   "outputs": [
    {
     "name": "stdout",
     "output_type": "stream",
     "text": [
      "True\n"
     ]
    }
   ],
   "source": [
    "name = 'Arpit'\n",
    "print(name.startswith('A')) # To check if string starts with letter"
   ]
  },
  {
   "cell_type": "code",
   "execution_count": 3,
   "metadata": {},
   "outputs": [
    {
     "name": "stdout",
     "output_type": "stream",
     "text": [
      "ARPIT\n"
     ]
    }
   ],
   "source": [
    "name = 'arpit'\n",
    "print(name.upper()) # To convert letter into uppercase"
   ]
  },
  {
   "cell_type": "code",
   "execution_count": 4,
   "metadata": {},
   "outputs": [
    {
     "name": "stdout",
     "output_type": "stream",
     "text": [
      "Arpit\n"
     ]
    }
   ],
   "source": [
    "name = ' Arpit '\n",
    "print(name.strip()) # To remove whitespace from both sides\n"
   ]
  },
  {
   "cell_type": "code",
   "execution_count": 5,
   "metadata": {},
   "outputs": [
    {
     "name": "stdout",
     "output_type": "stream",
     "text": [
      "Arpit is my name\n"
     ]
    }
   ],
   "source": [
    "name = 'arpit is my name'\n",
    "print(name.capitalize()) # To convert into captal"
   ]
  },
  {
   "cell_type": "code",
   "execution_count": 6,
   "metadata": {},
   "outputs": [
    {
     "name": "stdout",
     "output_type": "stream",
     "text": [
      "Arpit\n"
     ]
    }
   ],
   "source": [
    "name = 'Arpit  '\n",
    "print(name.rstrip()) # To remove white-space from rhs"
   ]
  },
  {
   "cell_type": "code",
   "execution_count": 7,
   "metadata": {},
   "outputs": [
    {
     "name": "stdout",
     "output_type": "stream",
     "text": [
      "[21, 1999, 5, 'Python', 'Electrical']\n"
     ]
    }
   ],
   "source": [
    "# Try 5 different functions of list objects.\n",
    "lst = ['Arpit',21,1999,5,'Python','Electrical']\n",
    "lst.remove('Arpit') # To remove an element from list.\n",
    "print(lst)"
   ]
  },
  {
   "cell_type": "code",
   "execution_count": 8,
   "metadata": {},
   "outputs": [
    {
     "name": "stdout",
     "output_type": "stream",
     "text": [
      "[5, 14, 18, 23, 42, 56, 65, 98, 123]\n"
     ]
    }
   ],
   "source": [
    "lst = [5,65,42,18,98,14,23,123,56]\n",
    "lst.sort() # sorting list from smallest to largest.\n",
    "print(lst)"
   ]
  },
  {
   "cell_type": "code",
   "execution_count": 9,
   "metadata": {},
   "outputs": [
    {
     "name": "stdout",
     "output_type": "stream",
     "text": [
      "[]\n"
     ]
    }
   ],
   "source": [
    "lst.clear()\n",
    "print(lst) # To remove all elements from list"
   ]
  },
  {
   "cell_type": "code",
   "execution_count": 12,
   "metadata": {},
   "outputs": [
    {
     "name": "stdout",
     "output_type": "stream",
     "text": [
      "['Arpit', 'Dhoni', 'Rohan', 'Virat', 'Rohit']\n"
     ]
    }
   ],
   "source": [
    "list1 = ['Arpit','Rohan','Virat','Rohit']\n",
    "list1.insert(1,'Dhoni') # To inserting an item into list at position.\n",
    "print(list1)"
   ]
  },
  {
   "cell_type": "code",
   "execution_count": 13,
   "metadata": {},
   "outputs": [
    {
     "name": "stdout",
     "output_type": "stream",
     "text": [
      "['Arpit', 'Dhoni', 'Rohan', 'Virat', 'Rohit', 56, 78, 95, 32, 152, 26, 30]\n"
     ]
    }
   ],
   "source": [
    "number = [56,78,95,32,152,26,30]\n",
    "list1.extend(number) # for Inserting an list into list\n",
    "print(list1)"
   ]
  },
  {
   "cell_type": "markdown",
   "metadata": {},
   "source": [
    "# Using default functions in dictionary"
   ]
  },
  {
   "cell_type": "code",
   "execution_count": 14,
   "metadata": {},
   "outputs": [
    {
     "name": "stdout",
     "output_type": "stream",
     "text": [
      "{'name': 'Arpit', 'age': 21, 'Profession': 'Student', 'Learner': True}\n"
     ]
    }
   ],
   "source": [
    "dict1 = {'name':'Arpit','age':21,'Profession':'Student','Learner':True}\n",
    "dict2 = dict1.copy() # coping 1 dictionary to another.\n",
    "print(dict2)"
   ]
  },
  {
   "cell_type": "code",
   "execution_count": 15,
   "metadata": {},
   "outputs": [
    {
     "name": "stdout",
     "output_type": "stream",
     "text": [
      "{'age': 21, 'Profession': 'Student', 'Learner': True}\n"
     ]
    }
   ],
   "source": [
    "dict2.pop('name') # to remove a particular key\n",
    "print(dict2) "
   ]
  },
  {
   "cell_type": "code",
   "execution_count": 16,
   "metadata": {},
   "outputs": [
    {
     "name": "stdout",
     "output_type": "stream",
     "text": [
      "{'name': 'Arpit', 'age': 21, 'Profession': 'Student', 'Learner': True, 'ProgrammingLanguage': 'Python'}\n"
     ]
    }
   ],
   "source": [
    "dict1.update({'ProgrammingLanguage':'Python'}) # updates dictionary with key value.\n",
    "print(dict1)"
   ]
  },
  {
   "cell_type": "code",
   "execution_count": 17,
   "metadata": {},
   "outputs": [
    {
     "name": "stdout",
     "output_type": "stream",
     "text": [
      "{'name': 'Arpit', 'age': 21, 'Profession': 'Student', 'Learner': True}\n"
     ]
    }
   ],
   "source": [
    "dict1.popitem() # removes last key value pair from dictinonary\n",
    "print(dict1)"
   ]
  },
  {
   "cell_type": "code",
   "execution_count": 18,
   "metadata": {},
   "outputs": [
    {
     "name": "stdout",
     "output_type": "stream",
     "text": [
      "dict_values(['Ford', 'Mustang', 1964])\n"
     ]
    }
   ],
   "source": [
    "car = {\n",
    "  \"brand\": \"Ford\",\n",
    "  \"model\": \"Mustang\",\n",
    "  \"year\": 1964\n",
    "}\n",
    "\n",
    "x = car.values() # gives list of values in dictionary\n",
    "\n",
    "print(x)"
   ]
  },
  {
   "cell_type": "markdown",
   "metadata": {},
   "source": [
    "# Assignment complete"
   ]
  },
  {
   "cell_type": "code",
   "execution_count": null,
   "metadata": {},
   "outputs": [],
   "source": []
  }
 ],
 "metadata": {
  "kernelspec": {
   "display_name": "Python 3",
   "language": "python",
   "name": "python3"
  },
  "language_info": {
   "codemirror_mode": {
    "name": "ipython",
    "version": 3
   },
   "file_extension": ".py",
   "mimetype": "text/x-python",
   "name": "python",
   "nbconvert_exporter": "python",
   "pygments_lexer": "ipython3",
   "version": "3.8.3"
  }
 },
 "nbformat": 4,
 "nbformat_minor": 4
}
